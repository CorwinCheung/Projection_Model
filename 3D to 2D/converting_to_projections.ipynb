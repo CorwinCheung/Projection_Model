{
 "cells": [
  {
   "cell_type": "code",
   "execution_count": 1,
   "metadata": {},
   "outputs": [
    {
     "data": {
      "application/vnd.jupyter.widget-view+json": {
       "model_id": "496956f96d1f4ecaa5b0f5cab419e525",
       "version_major": 2,
       "version_minor": 0
      },
      "text/plain": [
       "Renderer(camera=PerspectiveCamera(fov=60.0, position=(5.0, 5.0, 5.0), projectionMatrix=(1.0, 0.0, 0.0, 0.0, 0.…"
      ]
     },
     "metadata": {},
     "output_type": "display_data"
    }
   ],
   "source": [
    "import trimesh\n",
    "from pythreejs import *\n",
    "from IPython.display import display\n",
    "import numpy as np\n",
    "\n",
    "# Load the .off file\n",
    "mesh = trimesh.load('Test Set/3D files/toilet_0443.off')\n",
    "\n",
    "# Convert vertices and faces to the correct format\n",
    "vertices = np.array(mesh.vertices, dtype=np.float32)\n",
    "faces = np.array(mesh.faces, dtype=np.uint32).ravel()\n",
    "\n",
    "# Create BufferGeometry\n",
    "geometry = BufferGeometry(\n",
    "    attributes={\n",
    "        'position': BufferAttribute(vertices, normalized=False),\n",
    "        'index': BufferAttribute(faces, normalized=False)\n",
    "    }\n",
    ")\n",
    "\n",
    "material = MeshBasicMaterial(color='red', wireframe=True)\n",
    "three_mesh = Mesh(geometry, material)\n",
    "\n",
    "# Set up the scene and renderer\n",
    "camera = PerspectiveCamera(position=[5, 5, 5], up=[0, 0, 1], aspect=1, fov=60)\n",
    "camera.lookAt([0, 0, 0])\n",
    "\n",
    "scene = Scene(children=[three_mesh, AmbientLight(color='#cccccc')])\n",
    "renderer = Renderer(camera=camera, scene=scene, controls=[OrbitControls(controlling=camera)],\n",
    "                    width=800, height=600)\n",
    "\n",
    "# Display the rendered object\n",
    "display(renderer)\n"
   ]
  },
  {
   "cell_type": "code",
   "execution_count": 28,
   "metadata": {},
   "outputs": [
    {
     "name": "stdout",
     "output_type": "stream",
     "text": [
      "41244\n",
      "4571\n",
      "16755\n",
      "8103\n",
      "10034\n",
      "2168\n",
      "2886\n",
      "12312\n",
      "2297\n"
     ]
    }
   ],
   "source": [
    "import matplotlib.pyplot as plt\n",
    "import os\n",
    "# Load the .off file\n",
    "# mesh = trimesh.load('Test Set/3D files/toilet_0443.off')\n",
    "\n",
    "input_folder = 'Test Set/3D files'\n",
    "output_folder = 'Test Set/2D projections'\n",
    "\n",
    "for filename in os.listdir(input_folder):\n",
    "    file_path = os.path.join(input_folder,filename)\n",
    "    if 'dresser' in filename:\n",
    "        mesh = trimesh.load(file_path)\n",
    "        vertices = np.array(mesh.vertices)\n",
    "\n",
    "        x = vertices[:, 0]\n",
    "        y = vertices[:, 1]\n",
    "        if len(x) > 2000:\n",
    "            plt.figure(figsize=(10, 10))\n",
    "            plt.scatter(x, y, s=1)\n",
    "            plt.title(f'2D Projection of {filename}')\n",
    "            plt.xlabel('X')\n",
    "            plt.ylabel('Y')\n",
    "            plt.axis('equal')\n",
    "            \n",
    "            # Save the 2D projection as an image\n",
    "            output_path = os.path.join(output_folder, f'{os.path.splitext(filename)[0]}.png')\n",
    "            plt.savefig(output_path, dpi=300)\n",
    "            plt.close()\n",
    "\n",
    "            projection_data = {'x': x.tolist(), 'y': y.tolist()}\n",
    "            output_data_path = os.path.join(output_folder, f'{os.path.splitext(filename)[0]}.json')\n",
    "            with open(output_data_path, 'w') as f:\n",
    "                json.dump(projection_data, f)\n",
    "            print(len(projection_data['x']))\n",
    "        else:\n",
    "            os.remove(file_path)"
   ]
  },
  {
   "cell_type": "code",
   "execution_count": 33,
   "metadata": {},
   "outputs": [
    {
     "data": {
      "text/plain": [
       "35.0"
      ]
     },
     "execution_count": 33,
     "metadata": {},
     "output_type": "execute_result"
    }
   ],
   "source": [
    "def count_files_in_folder(folder_path):\n",
    "    # List all files and directories in the given folder\n",
    "    all_entries = os.listdir(folder_path)\n",
    "    # Filter out directories, only keeping files\n",
    "    files = [entry for entry in all_entries if os.path.isfile(os.path.join(folder_path, entry)) and 'bathtub' in entry]\n",
    "    return len(files)/2\n",
    "count_files_in_folder('2D projections')"
   ]
  },
  {
   "cell_type": "code",
   "execution_count": null,
   "metadata": {},
   "outputs": [],
   "source": []
  }
 ],
 "metadata": {
  "kernelspec": {
   "display_name": "afrl",
   "language": "python",
   "name": "python3"
  },
  "language_info": {
   "codemirror_mode": {
    "name": "ipython",
    "version": 3
   },
   "file_extension": ".py",
   "mimetype": "text/x-python",
   "name": "python",
   "nbconvert_exporter": "python",
   "pygments_lexer": "ipython3",
   "version": "3.12.4"
  }
 },
 "nbformat": 4,
 "nbformat_minor": 2
}
