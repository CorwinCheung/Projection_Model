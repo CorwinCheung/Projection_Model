{
 "cells": [
  {
   "cell_type": "code",
   "execution_count": 2,
   "metadata": {},
   "outputs": [
    {
     "data": {
      "application/vnd.jupyter.widget-view+json": {
       "model_id": "44b1f6f949fc40d7996b3975df807645",
       "version_major": 2,
       "version_minor": 0
      },
      "text/plain": [
       "Renderer(camera=PerspectiveCamera(fov=60.0, position=(5.0, 5.0, 5.0), projectionMatrix=(1.0, 0.0, 0.0, 0.0, 0.…"
      ]
     },
     "metadata": {},
     "output_type": "display_data"
    }
   ],
   "source": [
    "import trimesh\n",
    "from pythreejs import *\n",
    "from IPython.display import display\n",
    "import numpy as np\n",
    "\n",
    "# Load the .off file\n",
    "mesh = trimesh.load('3D files/toilet_0443.off')\n",
    "\n",
    "# Convert vertices and faces to the correct format\n",
    "vertices = np.array(mesh.vertices, dtype=np.float32)\n",
    "faces = np.array(mesh.faces, dtype=np.uint32).ravel()\n",
    "\n",
    "# Create BufferGeometry\n",
    "geometry = BufferGeometry(\n",
    "    attributes={\n",
    "        'position': BufferAttribute(vertices, normalized=False),\n",
    "        'index': BufferAttribute(faces, normalized=False)\n",
    "    }\n",
    ")\n",
    "\n",
    "material = MeshBasicMaterial(color='red', wireframe=True)\n",
    "three_mesh = Mesh(geometry, material)\n",
    "\n",
    "# Set up the scene and renderer\n",
    "camera = PerspectiveCamera(position=[5, 5, 5], up=[0, 0, 1], aspect=1, fov=60)\n",
    "camera.lookAt([0, 0, 0])\n",
    "\n",
    "scene = Scene(children=[three_mesh, AmbientLight(color='#cccccc')])\n",
    "renderer = Renderer(camera=camera, scene=scene, controls=[OrbitControls(controlling=camera)],\n",
    "                    width=800, height=600)\n",
    "\n",
    "# Display the rendered object\n",
    "display(renderer)\n"
   ]
  },
  {
   "cell_type": "code",
   "execution_count": 3,
   "metadata": {},
   "outputs": [],
   "source": [
    "import matplotlib.pyplot as plt\n",
    "import os\n",
    "# Load the .off file\n",
    "# mesh = trimesh.load('Test Set/3D files/toilet_0443.off')\n",
    "\n",
    "# Create the folder if it doesn't exist\n",
    "input_folder = 'Test Set/3D files'\n",
    "output_folder = 'Test Set/2D projections'\n",
    "\n",
    "for filename in os.listdir(input_folder):\n",
    "    file_path = os.path.join(input_folder,filename)\n",
    "    mesh = trimesh.load(file_path)\n",
    "    vertices = np.array(mesh.vertices)\n",
    "\n",
    "    x = vertices[:, 0]\n",
    "    y = vertices[:, 1]\n",
    "\n",
    "    plt.figure(figsize=(10, 10))\n",
    "    plt.scatter(x, y, s=1)\n",
    "    plt.title(f'2D Projection of {filename}')\n",
    "    plt.xlabel('X')\n",
    "    plt.ylabel('Y')\n",
    "    plt.axis('equal')\n",
    "    \n",
    "    # Save the 2D projection as an image\n",
    "    output_path = os.path.join(output_folder, f'{os.path.splitext(filename)[0]}.png')\n",
    "    plt.savefig(output_path, dpi=300)\n",
    "    plt.close()"
   ]
  },
  {
   "cell_type": "code",
   "execution_count": null,
   "metadata": {},
   "outputs": [],
   "source": []
  }
 ],
 "metadata": {
  "kernelspec": {
   "display_name": "afrl",
   "language": "python",
   "name": "python3"
  },
  "language_info": {
   "codemirror_mode": {
    "name": "ipython",
    "version": 3
   },
   "file_extension": ".py",
   "mimetype": "text/x-python",
   "name": "python",
   "nbconvert_exporter": "python",
   "pygments_lexer": "ipython3",
   "version": "3.12.4"
  }
 },
 "nbformat": 4,
 "nbformat_minor": 2
}
